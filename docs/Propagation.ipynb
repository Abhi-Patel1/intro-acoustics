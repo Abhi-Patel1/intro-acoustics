{
 "cells": [
  {
   "cell_type": "markdown",
   "metadata": {},
   "source": [
    "# Propagation\n",
    "\n",
    "The sound is a wave emitted at a given intensity and so with a finite energy. To propagate through a medium as water, the wave sound excites the molecules of its medium to propagate through it. As the excitation requires energy, the sound level decreases as the wave propagates away from the source (*i.e.* distance covered). Besides, the vibration of the molecules within a medium would requires different amount of energy according the viscosity of the medium. Indeed, the wave sound gets absorbed while spreading through the surrounding medium. The whole attenuation of sound intensity, through the geometrical spreading (*i.e* distance covered) and through the absorption, defines the transmission loss and is estimated in decibels (dB).\n"
   ]
  },
  {
   "cell_type": "markdown",
   "metadata": {},
   "source": [
    "## Transmission loss models\n",
    "\n",
    "Transmission loss model can be described as a combination between the loss due to geometrical spreading of the sound wave-front and the absorption loss due to propagation. \n"
   ]
  },
  {
   "cell_type": "markdown",
   "metadata": {},
   "source": [
    "### Geometrical spreading\n",
    "\n",
    "The geometrical spreading is a simple approximation to describe how sound level decreases as a sound wave propagates away from the source. This approach describes the geometry of the wave propagation by considering an omnidirectional spreading. Such model simplify the sound propagation by avoiding the consideration of the refraction occurring because of the dependence of sound speed on depth, for instance. To assess more complex spreading other models based on ray tracing  programs (*e.g.* Bellhop) may be used. However, such programs require in general to know most of the environmental parameters.\n",
    "\n",
    "The geometrical spreading is described as spherical until the wave meets some barriers, such as the sea surface or the seafloor. Indeed, these physical limits coerce the spreading and can then be describe as cylindrical.\n",
    "\n",
    "\n",
    "#### Spherical\n",
    "Over a short propagation range (R), *i.e.* less than half of the channel depth, the geometrical spreading is considered as spherical, and the transmission loss (in dB) is expressed as:\n",
    "\n",
    "\\begin{equation}\n",
    "    TL_{geom}  =   20log_{10} (R)\n",
    "\\end{equation}\n",
    "\n",
    "with R the range of the propagation\n",
    "\n",
    "#### Cylindrical\n",
    "Over a large propagation range (R), *i.e.* longer than half of the channel depth, the geometrical spreading is considered as cylindrical, and the transmission loss (in dB) is expressed as:\n",
    "\n",
    "\\begin{equation}\n",
    "    TL_{geom}  =   10log_{10} (R)\n",
    "\\end{equation}\n",
    "\n",
    "\n",
    "\n",
    "#### Combination of spherical and cylindrical\n",
    "\n",
    "To get closer to the reality we may consider that sound has first a spherical propagation until waves reach the surface and then follows a cylindrical propagation as they are constraint by the limit of the water column. Thus, the transition range from which the sound switch from spherical to cylindrical spreading can be set as one-half of the channel depth (H/2):\n",
    "\n",
    "\\begin{equation}\n",
    "    TL_{geom}  =   20log_{10} (\\frac{H}{2})-10log_{10} (\\frac{H}{2})+10log_{10} (R)\n",
    "\\end{equation}\n",
    "\n",
    "\n"
   ]
  },
  {
   "cell_type": "markdown",
   "metadata": {},
   "source": [
    "### Absorption\n",
    "\n",
    "The absorption loss model has three components all sound’s frequency dependent: viscous absorption α$ _{\\text{visc}}$, the boric acid relaxation process α$ _{\\text{boric}}$ , and the magnesium sulfate relaxation process α$ _{\\text{magn}}$ :\n",
    "\n",
    "\n",
    "\\begin{equation}\n",
    "α_{visc}  = 4.9×10^{-4} f^2e^{(\\frac{-T}{27}-\\frac{D}{17})}\n",
    "\\end{equation}\n",
    "\n",
    "\\begin{equation}\n",
    "α_{boric} =0.106\\frac{f_bf^2}{f_b^2+f^2}e^{(\\frac{-(pH-8)}{0.56})}\n",
    "\\end{equation}\n",
    "\n",
    "\\begin{equation}\n",
    "α_{magn} =0.52(1+\\frac{T}{43})(\\frac{S}{35})\\frac{f_mf_2}{f_m^2+f^2}e^{(\\frac{-D}{6})}\n",
    "\\end{equation}\n",
    "\n",
    "with f the sound frequency, T the temperature, D the depth, S the salinity, f$ _{\\text{b}}$  and f$ _{\\text{m}}$  the relaxation frequency of boric acid and magnesium sulfate defined as:\n",
    "\\begin{equation}\n",
    " f_b=0.78\\sqrt{\\frac{S}{35}} e^{(\\frac{T}{26})}\n",
    "\\end{equation}\n",
    "\n",
    "\\begin{equation}\n",
    " f_m= 42e^{(\\frac{T}{17})}\n",
    "\\end{equation}\n",
    "\n",
    "\n",
    "The total transmission loss model was then defined as:\n",
    "\\begin{equation}\n",
    "TL =  TL_{geom} + (α_{visc} + α_{boric} + α_{magn} ) R\n",
    "\\end{equation}\n",
    "\n",
    "with R the range source-hydrophone and H the depth of the water column. \n",
    "\n",
    "\n",
    "\n",
    "**!!PLAGIARISM DOSITS but so well written ^^: The amount of absorption depends on the frequency of the sound. A high frequency sound has many cycles in a second, and the particles in the medium are therefore vibrating very rapidly. Just as when you rub your hands together very rapidly, this produces more heat than if you rub your hands together slowly. Since the molecules get their energy to vibrate from the sound wave, the sound wave will run out of energy sooner when it is a high frequency sound. This means that, under the same conditions, a high frequency sound won’t travel as far as a low frequency sound.**"
   ]
  },
  {
   "cell_type": "markdown",
   "metadata": {},
   "source": [
    "## Passive Sonar Equation\n",
    "\n",
    "Passive acoustic consists to listen to the environment. The pieces of information measured on a hydrophone are then received sound levels (RL). The passive sonar equation allows therefore to relate to a received sound level (RL) to the intensity of the same sound at the emission (source level, SL) by considering the transmission loss (TL) during the travel of this sound from the source to the receiver :\n",
    "\\begin{equation}\n",
    "RL = SL –TL\n",
    "\\end{equation}\n",
    "As the underwater environment is not silent, within the received sound levels is also measured the ambient noise. While assessing the sound level of a signal of interest (*e.g.* marine wildlife, submarines, earthquakes) it is important to remove the noise level (NL). Then the ratio of the signal level to the noise level at the receiver, called the signal-to-noise ratio (SNR) is:\n",
    "\\begin{equation}\n",
    "SNR = SL -TL – NL\n",
    "\\end{equation}\n",
    "\n",
    "The passive sonar equation can refine the estimation of the SNR as some hydrophones can look in a specific direction and reject noise from all other directions. This directivity is the ratio of the total noise power at the array to the noise received by the array along its main response axis. The directivity index is given by the array gain (AG)  improves the SNR ratio by reducing the total noise:\n",
    "\\begin{equation}\n",
    "SNR = SL -TL – (NL – AG)\n",
    "\\end{equation}\n"
   ]
  }
 ],
 "metadata": {
  "kernelspec": {
   "display_name": "Matlab",
   "language": "matlab",
   "name": "matlab"
  },
  "language_info": {
   "codemirror_mode": "octave",
   "file_extension": ".m",
   "help_links": [
    {
     "text": "MetaKernel Magics",
     "url": "https://github.com/calysto/metakernel/blob/master/metakernel/magics/README.md"
    }
   ],
   "mimetype": "text/x-octave",
   "name": "matlab",
   "version": "0.16.1"
  }
 },
 "nbformat": 4,
 "nbformat_minor": 2
}
