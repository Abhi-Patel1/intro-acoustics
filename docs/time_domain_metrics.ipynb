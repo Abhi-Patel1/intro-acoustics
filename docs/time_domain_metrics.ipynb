{
 "cells": [
  {
   "cell_type": "markdown",
   "metadata": {},
   "source": [
    "# Time Domain\n",
    "\n",
    "The time domain refers to the perspective where a sound is viewed as a waveform, which is simply a changing pressure over a period of time. There are many ways to describe the qualities, especially strength, of a waveform. This section provides a simple overview of some of these metrics, their theoretical basis, and how to calculate them in matlab. The final portion provides some hands-on examples for how to apply these metrics, and hopefully demonstrates that metrics must be chosen carefully, as not all metrics are appropriate for all signals."
   ]
  },
  {
   "cell_type": "markdown",
   "metadata": {},
   "source": [
    "## Metrics"
   ]
  },
  {
   "cell_type": "markdown",
   "metadata": {},
   "source": [
    "### Energy\n",
    "\n",
    "The energy of a signal, $E$, is its ability to do work. It is typically expressed in `Joules`. It can be helpful to think of this quantity as the 'area under the curve' of that signal in the time domain. The energy of a **continuous** complex signal can be described as follows:\n",
    "\n",
    "\\begin{equation}\n",
    "E = \\int_{-\\infty}^{\\infty} |y(t)|^{2}dt\n",
    "\\end{equation}\n",
    "\n",
    "Where $y(t)$ is the instantaneous amplitude at time $t$. As this is a continuous signal, there are infinite possible values for time and amplitude. This means that the energy of a continuous signal, such as a sine wave, or any continuous tone for that matter, *must* be infinite.\n",
    "\n",
    "The energy of a **discrete** complex signal can be described as follows:\n",
    "\n",
    "\\begin{equation}\n",
    "E = \\int_{-\\infty}^{\\infty} |y(t)|^{2}dt\n",
    "\\end{equation}\n",
    "\n",
    "The integral above must be discretized to solve computationally (i.e., in MATLAB). It is common to approximate that integral as follows:\n",
    "\n",
    "\\begin{equation}\n",
    "E = \\sum_{-\\infty}^{\\infty} |y(t)|^{2}\n",
    "\\end{equation}\n",
    "\n",
    "This can be calculated in MATLAB like this:\n",
    "\n",
    "``` Octave\n",
    "E = sum(abs(Y).^2)*dt; \n",
    "```"
   ]
  },
  {
   "cell_type": "markdown",
   "metadata": {},
   "source": [
    "### Power\n",
    "\n",
    "Power is the energy of a signal per unit time. It's typically expressed in `Joules/second` or `Watts`. It is mathematically defined as:\n",
    "\n",
    "\\begin{equation}\n",
    "P = \\lim_{t\\to\\infty} \\frac{1}{T} \\int_{-\\infty}^{\\infty} |y(t)|^{2}dt\n",
    "\\end{equation}\n",
    "\n",
    "This should look familiar to the equation for energy, but divided by a period of time. Calculating power in Matlab is as simple as dividing the energy `E` by the duration of the signal `D`:\n",
    "\n",
    "``` Octave\n",
    "P = E / D;\n",
    "```"
   ]
  },
  {
   "cell_type": "markdown",
   "metadata": {},
   "source": [
    "### Root Mean Square (RMS) pressure\n",
    "\n",
    "It's often desirable to estimate the average signal strength. Because these periodic signals have both positive and negative amplitudes, the simple 'mean' of the signal is misleading and should not be used. The root mean square, or RMS, method can be a reasonable alternative. It accounts for positive and negative values by first squaring the signal, then averaging, and then taking square root of the result as follows:\n",
    "\n",
    "\\begin{equation}\n",
    "P_{rms} = \\sqrt{\\frac{1}{T} \\int_{-T}^{T} |y(t)|^{2}dt}\n",
    "\\end{equation}\n",
    "\n",
    "This can be easily applied to our power measurements like this:\n",
    "\n",
    "``` Octave\n",
    "RMS = sqrt(P); % from power\n",
    "RMS = rms(y);  % from waveform\n",
    "```"
   ]
  },
  {
   "cell_type": "markdown",
   "metadata": {},
   "source": [
    "### Zero to peak pressure\n",
    "\n",
    "Perhaps the simplest measure of signal strength is zero to peak pressure. As the name suggests, this is simply the distance from zero to the maximum pressure magnitude (can be positive or negative. It can be expressed as follows:\n",
    "\n",
    "\\begin{equation}\n",
    "P_{0p} = max(|y(t)|)\n",
    "\\end{equation}\n",
    "\n",
    "Let's estimate these levels for our input signals:\n",
    "\n",
    "``` Octave\n",
    "P0 = max(abs(Y));\n",
    "```"
   ]
  },
  {
   "cell_type": "markdown",
   "metadata": {},
   "source": [
    "### Peak to peak pressure\n",
    "\n",
    "This is simply the difference between the minimum and maximum pressure of the signal.\n",
    "\n",
    "\\begin{equation}\n",
    "P_{pp} = max(y(t))-min(y(t))\n",
    "\\end{equation}\n",
    "\n",
    "In MATLAB you can use:\n",
    "``` Octave\n",
    "pp = max(Y)-min(Y)\n",
    "```"
   ]
  },
  {
   "cell_type": "markdown",
   "metadata": {},
   "source": [
    "## Examples\n",
    "\n",
    "The following section is dedicated to using MATLAB to 1) learn how to calculate these metrics, and 2) develop an intuition for how they are effected by changes in signal duration, frequency, amplitude and signal type.\n",
    "\n",
    "### Simple example\n",
    "\n",
    "Here is a simple, reproducible example that you should be able to copy and paste directly into a Matlab script and run yourself. You can change all the parameters of the signal by editing the `inputs` at the top of the script (e.g. `a`, `f`, `d`, `D`, `Fs`,...). You can also change the type of signal generated in the `create signal` section. To do that, you'll need to uncomment (i.e., remove the `%`) the required line(s). Almost all the signals with the exception of the pulsetrain can be generated with a one-line function. The `chirp` signal is shown by default.\n",
    "\n",
    "The code then calculates each of the previously-described metrics of the signal, then plots the signal waveform and presents the value of each metric in the plot title.\n",
    "\n",
    "You can copy this example and run it again and again with different parameter values to get a sense for how the metrics change. Or you can head to the next section to see a (potentially) more efficient strategy. "
   ]
  },
  {
   "cell_type": "code",
   "execution_count": null,
   "metadata": {
    "collapsed": false
   },
   "outputs": [
    {
     "name": "stdout",
     "output_type": "stream",
     "text": [
      "\n"
     ]
    }
   ],
   "source": [
    "%plot -s 1000,300\n",
    "\n",
    "%% signal parameters %%\n",
    "\n",
    "% inputs\n",
    "a = 2;          % signal amplitudes\n",
    "f = 15;         % signal frequencies\n",
    "d = 3;          % signal durations\n",
    "D = 4;          % total duration\n",
    "Fs = 1e3;       % sampling frequency\n",
    "\n",
    "% calculated params\n",
    "dt = 1/Fs;      % sample interval\n",
    "n = Fs*d;       % length of signal (samples)\n",
    "N = Fs*D;       % length of signal (samples)\n",
    "s0 = N/2-n/2;   % start of signal (samples)\n",
    "t = 0:dt:d-dt;  % timesteps of signal\n",
    "T = 0:dt:D-dt;  % timesteps of total\n",
    "\n",
    "% create signal (choose from signals page) \n",
    "y = a*sin(2*pi*f*t);\n",
    "\n",
    "% pad signal\n",
    "pad = zeros(1,s0);\n",
    "Y = [pad y pad];\n",
    "\n",
    "%% calculate metrics %%\n",
    "\n",
    "% calculate energy\n",
    "E = sum(abs(Y).^2)*dt;\n",
    "\n",
    "% calculate power\n",
    "P = E / d; %% GAETAN: I'v change the duration here, please check if you agree with me\n",
    "\n",
    "% calculate RMS\n",
    "RMS = sqrt(P);\n",
    "\n",
    "% calculate zero to peak\n",
    "P0 = max(abs(Y));\n",
    "\n",
    "% calculate peak to peak\n",
    "PP = max(Y)-min(Y);            \n",
    "\n",
    "%% plot %%\n",
    "plot(T, Y)\n",
    "ylim([-max(a) max(a)]*2)\n",
    "xlabel('Time [s]')\n",
    "ylabel('Amplitude [Pa]')\n",
    "\n",
    "title({sprintf('Amplitude: %1d   Duration: %1d   Frequency: %1d', a, d, f),...\n",
    "                sprintf('Energy: %.02f   Power: %.02f   RMS: %.02f ', E, P, RMS),...\n",
    "                sprintf('P0: %.02f  PP: %.02f', P0, PP)})   "
   ]
  },
  {
   "cell_type": "markdown",
   "metadata": {},
   "source": [
    "### Advanced example\n",
    "\n",
    "Repeatedly copying and pasting the same code over and over again can be annoying and error-prone work. It also almost always is a symptom of poor programming practices. This section gives an example of how to build a function to automatically loop through the simple example above for every combination of a set of parameters. This is particularly desirable because if you would like to edit or correct the code, you need only do so in one place before you can reproduce all your results.\n",
    "\n",
    "#### Common parameters\n",
    "\n",
    "First we need to define a set of common parameters. Instead of single values, as in the simple example above, the variables `a`, `f`, and `d` are now vectors with multiple values we would like to test."
   ]
  },
  {
   "cell_type": "code",
   "execution_count": null,
   "metadata": {
    "collapsed": true
   },
   "outputs": [],
   "source": [
    "a = [1 2];      % signal amplitudes\n",
    "f = [10 15];    % signal frequencies\n",
    "d = [2 3];      % signal durations\n",
    "D = 4;          % total duration\n",
    "Fs = 1e3;       % sampling frequency"
   ]
  },
  {
   "cell_type": "markdown",
   "metadata": {},
   "source": [
    "#### Define plotting function\n",
    "\n",
    "This function loops through all combinations of the amplitudes (`a`), frequencies (`f`), and durations (`d`) given above and 1) creates the signal, 2) calculates some simple time domain metrics, and 3) plots the results."
   ]
  },
  {
   "cell_type": "code",
   "execution_count": null,
   "metadata": {
    "collapsed": true
   },
   "outputs": [],
   "source": [
    "%%file plot_time_metrics.m\n",
    "function plot_time_metrics(signal_type,a,f,d,Fs,D)\n",
    "\n",
    "dt = 1/Fs;      % sampling interval\n",
    "N = Fs*D;       % length of total (samples)\n",
    "T = 0:dt:D-dt;  % timesteps of total\n",
    "\n",
    "cnt=1;\n",
    "for(ii = 1:length(a))\n",
    "    a_i = a(ii); % amplitude\n",
    "    for(jj = 1:length(f))\n",
    "        f_i = f(jj); % frequency\n",
    "        for(kk = 1:length(d))\n",
    "            d_i = d(kk); % duration\n",
    "\n",
    "            % length of signal (samples)\n",
    "            n = Fs*d_i;\n",
    "\n",
    "            % start of signal (samples)\n",
    "            s0 = N/2-n/2;\n",
    "\n",
    "            % timesteps of signal\n",
    "            t = 0:dt:d_i-dt;\n",
    "\n",
    "            % create pad\n",
    "            pad = zeros(1,s0);\n",
    "\n",
    "            % create signal\n",
    "            switch lower(signal_type)\n",
    "                case 'noise'\n",
    "                    y = a_i/2*randn(1,n);\n",
    "                    f_i = NaN; % frequency doesn't apply here\n",
    "                case 'sine'\n",
    "                    y = a_i*sin(2*pi*f_i*t);\n",
    "                case 'pulse'\n",
    "                    y = a_i*gauspuls(t,f_i,0.5,-30);\n",
    "                case 'pulsetrain'\n",
    "\n",
    "                    % create single pulse\n",
    "                    y_pulse = a_i*gauspuls(t,f_i,0.5,-30);\n",
    "\n",
    "                    % number of pulses\n",
    "                    npls = 3;\n",
    "\n",
    "                    % crop single pulse\n",
    "                    pls = y_pulse(1:floor(n/npls));\n",
    "\n",
    "                    % repeat single pulse\n",
    "                    pls = repmat(pls,1,npls);\n",
    "\n",
    "                    % combine in zero-padded array\n",
    "                    y = zeros(1,n);\n",
    "                    y(1:length(pls)) = pls;\n",
    "\n",
    "                case 'chirp'\n",
    "                    y = chirp(t,0,d_i,f_i,'linear', -90);\n",
    "            end\n",
    "\n",
    "            % pad signal\n",
    "            Y = [pad y pad];\n",
    "\n",
    "            % calculate energy\n",
    "            E = sum(abs(Y).^2)*dt;\n",
    "\n",
    "            % calculate power\n",
    "            P = E / d_i; %% GAETAN: I'v cange here the duration please check if you agree with me\n",
    "\n",
    "            % calculate RMS\n",
    "            RMS = sqrt(P);\n",
    "\n",
    "            % calculate zero to peak\n",
    "            P0 = max(abs(Y));\n",
    "\n",
    "            % calculate peak to peak\n",
    "            PP = max(Y)-min(Y);\n",
    "\n",
    "            % plot\n",
    "            subplot(length(a)*length(f)*length(d)/2,2,cnt)\n",
    "            plot(T, Y)\n",
    "            ylim([-max(a_i) max(a_i)]*2)\n",
    "            title({sprintf('Amplitude: %1d   Duration: %1d   Frequency: %1d', a_i, d_i, f_i),...\n",
    "                    sprintf('Energy: %.02f   Power: %.02f   RMS: %.02f ', E, P, RMS),...\n",
    "                    sprintf('P0: %.02f  PP: %.02f', P0, PP)})   \n",
    "\n",
    "            % update counter\n",
    "            cnt=cnt+1;\n",
    "        end\n",
    "    end\n",
    "end\n",
    "set(gcf, 'PaperPosition', [0 0 20 24]); % increase figure size\n",
    "return"
   ]
  },
  {
   "cell_type": "markdown",
   "metadata": {},
   "source": [
    "### White noise"
   ]
  },
  {
   "cell_type": "code",
   "execution_count": null,
   "metadata": {
    "collapsed": true,
    "scrolled": true
   },
   "outputs": [],
   "source": [
    "plot_time_metrics('noise',a,f,d,Fs,D);"
   ]
  },
  {
   "cell_type": "markdown",
   "metadata": {},
   "source": [
    "### Sine wave"
   ]
  },
  {
   "cell_type": "code",
   "execution_count": null,
   "metadata": {
    "collapsed": true
   },
   "outputs": [],
   "source": [
    "plot_time_metrics('sine',a,f,d,Fs,D);"
   ]
  },
  {
   "cell_type": "markdown",
   "metadata": {},
   "source": [
    "### Pulse"
   ]
  },
  {
   "cell_type": "code",
   "execution_count": null,
   "metadata": {
    "collapsed": true
   },
   "outputs": [],
   "source": [
    "plot_time_metrics('pulse',a,f,d,Fs,D);"
   ]
  },
  {
   "cell_type": "markdown",
   "metadata": {},
   "source": [
    "### Pulse train"
   ]
  },
  {
   "cell_type": "code",
   "execution_count": null,
   "metadata": {
    "collapsed": true,
    "scrolled": true
   },
   "outputs": [],
   "source": [
    "plot_time_metrics('pulsetrain',a,f,d,Fs,D);"
   ]
  },
  {
   "cell_type": "markdown",
   "metadata": {},
   "source": [
    "### Chirp"
   ]
  },
  {
   "cell_type": "code",
   "execution_count": null,
   "metadata": {
    "collapsed": true,
    "scrolled": true
   },
   "outputs": [],
   "source": [
    "plot_time_metrics('chirp',a,f,d,Fs,D);"
   ]
  },
  {
   "cell_type": "markdown",
   "metadata": {},
   "source": [
    "## How to chose the appropratie metric? / Metrics description/Explanation\n",
    "(Gaetan: I'm not sure about the title ^^ )\n",
    "\n",
    "\n",
    "All the metrics presented previously allow the description of signals within the time domain according to your purpose. \n",
    "To choose appropriately the metrics according to your purpose, it is important to understand how they vary according to the signals’ parameters (*e.g.* duration, amplitude). \n",
    "The **energy** is function of the amplitude and of the duration of the signal (cf. section METRICS). Thus, over a same duration a signal with a higher amplitude will have a higher energy than a signal with a lower amplitude. Conversely, for a given amplitude, an increase of the duration of the signal will also increase the energy. \n",
    "The **power** is the mean energy per unit of time. Therefore, a signal with similar amplitude but with different duration will have the same power. The power will be different if the amplitude of the signal varies. Variations of the values are the same for the **RMS** as it is the square root of the power.\n",
    "The **Zero to peak pressure** and the **Peak to peak pressure** will only vary according to the intensity of the signals, *i.e* with the amplitude of the signal.\n",
    "While assessing the metrics of a **continuous** signal, you will have to fix a duration, this will have consequences on the value of the **energy**. Similarly, when assessing the metrics of a **discrete** signal the precision of the duration will have an impact of the estimation of the **power**. Thus, the measure of the signal of interest should be done carefully.\n"
   ]
  }
 ],
 "metadata": {
  "kernelspec": {
   "display_name": "Matlab",
   "language": "matlab",
   "name": "matlab"
  },
  "language_info": {
   "codemirror_mode": "octave",
   "file_extension": ".m",
   "help_links": [
    {
     "text": "MetaKernel Magics",
     "url": "https://github.com/calysto/metakernel/blob/master/metakernel/magics/README.md"
    }
   ],
   "mimetype": "text/x-octave",
   "name": "matlab",
   "version": "0.16.1"
  }
 },
 "nbformat": 4,
 "nbformat_minor": 2
}
